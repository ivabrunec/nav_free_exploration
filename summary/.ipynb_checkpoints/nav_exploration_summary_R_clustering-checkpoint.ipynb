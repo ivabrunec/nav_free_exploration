{
 "cells": [
  {
   "cell_type": "markdown",
   "metadata": {},
   "source": [
    "## Summary of free exploration data\n",
    "\n",
    "Regression analyses & visualization of group-level results & comparison to simulations in R.\n",
    "\n",
    "### Contents\n",
    "1. [Experiment 1: Experienced integration](#exp_1_integ)\n",
    "2. [Experiment 2: Experienced integration](#exp_2_integ)\n",
    "3. [Experiment 1: Simulation](#exp_1_sim) <br>\n",
    "    3.1 [t-tests with bootstrapping](#tstat)\n",
    "4. [Experiment 2: Simulation](#exp_2_sim)\n",
    "5. [Experiment 1: Roaming entropy](#exp_1_entropy)\n",
    "6. [Experiment 2: Roaming entropy](#exp_2_entropy)\n",
    "\n"
   ]
  },
  {
   "cell_type": "code",
   "execution_count": null,
   "metadata": {},
   "outputs": [
    {
     "name": "stderr",
     "output_type": "stream",
     "text": [
      "also installing the dependencies 'cli', 'lifecycle', 'rlang', 'scales'\n",
      "\n"
     ]
    }
   ],
   "source": [
    "install.packages('ggplot2')"
   ]
  },
  {
   "cell_type": "code",
   "execution_count": 4,
   "metadata": {},
   "outputs": [
    {
     "ename": "ERROR",
     "evalue": "Error in library(ggplot2): there is no package called 'ggplot2'\n",
     "output_type": "error",
     "traceback": [
      "Error in library(ggplot2): there is no package called 'ggplot2'\nTraceback:\n",
      "1. library(ggplot2)"
     ]
    }
   ],
   "source": [
    "## libraries\n",
    "\n",
    "library(ggplot2) # plotting\n",
    "source('R_rainclouds.R') # customizable raincloud plotting\n",
    "# to implement raincloud plots: https://github.com/RainCloudPlots/RainCloudPlots \n",
    "library(tidyverse) # ggsave\n",
    "library(cowplot) # layout\n",
    "library(boot) # bootstrapping\n",
    "library(lm.beta) # standardized beta coefficients\n",
    "library(effectsize) # partial eta squares"
   ]
  },
  {
   "cell_type": "code",
   "execution_count": 2,
   "metadata": {},
   "outputs": [],
   "source": [
    "## read in summarised data files\n",
    "data_exp1 <- read.table('summary_data_exp1.csv', header=T, sep=',')\n",
    "data_exp2 <- read.table('summary_data_exp2.csv', header=T, sep=',')"
   ]
  },
  {
   "cell_type": "markdown",
   "metadata": {},
   "source": [
    "### Experiment 1: experienced integration <a name=\"exp_1_integ\"></a>\n",
    "Scatterplots relating experienced integration to pointing performance and map-building."
   ]
  },
  {
   "cell_type": "code",
   "execution_count": 198,
   "metadata": {},
   "outputs": [
    {
     "data": {
      "text/plain": [
       "\n",
       "Call:\n",
       "lm(formula = abs_error ~ integ_experienced + prop_time_off_path, \n",
       "    data = data_exp1)\n",
       "\n",
       "Residuals:\n",
       "    Min      1Q  Median      3Q     Max \n",
       "-32.924 -10.406  -0.142  10.168  36.143 \n",
       "\n",
       "Coefficients:\n",
       "                   Estimate Std. Error t value Pr(>|t|)    \n",
       "(Intercept)         175.085     29.213   5.993 6.66e-08 ***\n",
       "integ_experienced  -101.266     21.655  -4.676 1.26e-05 ***\n",
       "prop_time_off_path    8.036     19.423   0.414     0.68    \n",
       "---\n",
       "Signif. codes:  0 '***' 0.001 '**' 0.01 '*' 0.05 '.' 0.1 ' ' 1\n",
       "\n",
       "Residual standard error: 14.41 on 75 degrees of freedom\n",
       "Multiple R-squared:  0.2353,\tAdjusted R-squared:  0.2149 \n",
       "F-statistic: 11.54 on 2 and 75 DF,  p-value: 4.269e-05\n"
      ]
     },
     "metadata": {},
     "output_type": "display_data"
    },
    {
     "data": {
      "text/plain": [
       "\n",
       "Call:\n",
       "lm(formula = abs_error ~ integ_experienced + prop_time_off_path, \n",
       "    data = data_exp1)\n",
       "\n",
       "Standardized Coefficients::\n",
       "       (Intercept)  integ_experienced prop_time_off_path \n",
       "        0.00000000        -0.47719630         0.04222168 \n"
      ]
     },
     "metadata": {},
     "output_type": "display_data"
    },
    {
     "data": {
      "text/html": [
       "<table>\n",
       "<caption>A effectsize_table: 2 × 5</caption>\n",
       "<thead>\n",
       "\t<tr><th></th><th scope=col>Parameter</th><th scope=col>Eta2_partial</th><th scope=col>CI</th><th scope=col>CI_low</th><th scope=col>CI_high</th></tr>\n",
       "\t<tr><th></th><th scope=col>&lt;chr&gt;</th><th scope=col>&lt;dbl&gt;</th><th scope=col>&lt;dbl&gt;</th><th scope=col>&lt;dbl&gt;</th><th scope=col>&lt;dbl&gt;</th></tr>\n",
       "</thead>\n",
       "<tbody>\n",
       "\t<tr><th scope=row>1</th><td>integ_experienced </td><td>0.233990629</td><td>0.9</td><td>0.1075328</td><td>0.36298539</td></tr>\n",
       "\t<tr><th scope=row>2</th><td>prop_time_off_path</td><td>0.002277313</td><td>0.9</td><td>0.0000000</td><td>0.04977055</td></tr>\n",
       "</tbody>\n",
       "</table>\n"
      ],
      "text/latex": [
       "A effectsize\\_table: 2 × 5\n",
       "\\begin{tabular}{r|lllll}\n",
       "  & Parameter & Eta2\\_partial & CI & CI\\_low & CI\\_high\\\\\n",
       "  & <chr> & <dbl> & <dbl> & <dbl> & <dbl>\\\\\n",
       "\\hline\n",
       "\t1 & integ\\_experienced  & 0.233990629 & 0.9 & 0.1075328 & 0.36298539\\\\\n",
       "\t2 & prop\\_time\\_off\\_path & 0.002277313 & 0.9 & 0.0000000 & 0.04977055\\\\\n",
       "\\end{tabular}\n"
      ],
      "text/markdown": [
       "\n",
       "A effectsize_table: 2 × 5\n",
       "\n",
       "| <!--/--> | Parameter &lt;chr&gt; | Eta2_partial &lt;dbl&gt; | CI &lt;dbl&gt; | CI_low &lt;dbl&gt; | CI_high &lt;dbl&gt; |\n",
       "|---|---|---|---|---|---|\n",
       "| 1 | integ_experienced  | 0.233990629 | 0.9 | 0.1075328 | 0.36298539 |\n",
       "| 2 | prop_time_off_path | 0.002277313 | 0.9 | 0.0000000 | 0.04977055 |\n",
       "\n"
      ],
      "text/plain": [
       "  Parameter          Eta2_partial CI  CI_low    CI_high   \n",
       "1 integ_experienced  0.233990629  0.9 0.1075328 0.36298539\n",
       "2 prop_time_off_path 0.002277313  0.9 0.0000000 0.04977055"
      ]
     },
     "metadata": {},
     "output_type": "display_data"
    }
   ],
   "source": [
    "## linear regression models\n",
    "# replace 'abs_error' for 'gardony_score'\n",
    "lm_integ <- lm(abs_error ~ integ_experienced + prop_time_off_path, data = data_exp1)\n",
    "summary(lm_integ)\n",
    "lm.beta(lm_integ)\n",
    "eta_squared(lm_integ)"
   ]
  },
  {
   "cell_type": "code",
   "execution_count": 3,
   "metadata": {},
   "outputs": [
    {
     "name": "stderr",
     "output_type": "stream",
     "text": [
      "`geom_smooth()` using formula 'y ~ x'\n",
      "\n",
      "`geom_smooth()` using formula 'y ~ x'\n",
      "\n"
     ]
    },
    {
     "data": {
      "image/png": "[encoded data removed]",
      "text/plain": [
       "plot without title"
      ]
     },
     "metadata": {
      "image/png": {
       "height": 420,
       "width": 420
      }
     },
     "output_type": "display_data"
    }
   ],
   "source": [
    "## Create individual scatterplots: Experiment 1 ##\n",
    "\n",
    "exp1_box <- ggplot(data_exp1, aes(x = \"\", y = integ_experienced)) +\n",
    "    geom_boxplot(width = .35, size = 1.5, outlier.shape = NA, color = \"grey52\") +\n",
    "    geom_dotplot(binaxis = \"y\", stackdir = \"center\", dotsize = 0.7, alpha = .85, fill = \"#E8660E\", color = \"#E8660E\") +\n",
    "    xlab(\"\") +\n",
    "    ylab(\"Experienced integration\") +\n",
    "    ylim(1, 1.5) +\n",
    "    theme_minimal() +\n",
    "    theme(panel.grid.major = element_blank(), panel.grid.minor = element_blank(),\n",
    "         axis.text.x = element_text(colour=\"black\"), axis.text.y = element_text(color=\"black\")) +\n",
    "    coord_fixed(ratio = 4) +\n",
    "    scale_x_discrete(expand = c(0, 0)) \n",
    "\n",
    "## add arbitrary 'category' to enable raincloud plot\n",
    "data_exp1$categ <- as.factor(1)\n",
    "\n",
    "exp1_rain <- ggplot(data_exp1, aes(x = categ, y = integ_experienced, fill = categ, colour = NA)) +\n",
    "      geom_flat_violin(position = position_nudge(x = .25, y = 0), adjust = 1, trim = FALSE, alpha = .65) +\n",
    "      geom_point(aes(color = categ), position = position_jitter(width = .15, height = 0), size = 2.5, alpha = 1, shape = 20) +\n",
    "      geom_boxplot(aes(x = as.numeric(as.factor(categ)) + 0.25, y = integ_experienced), outlier.shape = NA, \n",
    "                   alpha = 0.85, width = .1, size=1, colour = \"grey30\") +\n",
    "      ylab('Experienced integration') + xlab('') + \n",
    "      guides(fill = FALSE, colour = FALSE) +\n",
    "      scale_fill_manual(values = c(\"#E8660E\")) +\n",
    "      scale_color_manual(values = c(\"#E8660E\")) +\n",
    "      theme_minimal() +\n",
    "      theme(axis.text.x = element_blank(), axis.text.y = element_text(colour = \"black\")) +\n",
    "      theme(panel.grid.major = element_blank(), panel.grid.minor = element_blank()) \n",
    "\n",
    "exp1_err <- ggplot(data_exp1, aes(x = integ_experienced, y = abs_error)) +\n",
    "    geom_smooth(method = 'lm', color = \"#E8660E\", fill = \"#E8660E\", size = 1.5, alpha = .5) + \n",
    "    geom_point(size = 1.5, color = \"#E8660E\", alpha = 1, shape = 16) +\n",
    "    xlab(\"Experienced integration\") +\n",
    "    ylab(\"Absolute pointing error\") +\n",
    "    xlim(1, 1.5) +\n",
    "    ylim(0, 90) +\n",
    "    theme_minimal() +\n",
    "    theme(panel.grid.major = element_blank(), panel.grid.minor = element_blank(),\n",
    "         axis.text.x = element_text(colour=\"black\"), axis.text.y = element_text(color=\"black\")) \n",
    "\n",
    "exp1_map <- ggplot(data_exp1, aes(x = integ_experienced, y = gardony_score)) +\n",
    "    geom_smooth(method = 'lm', color = \"#E8660E\", fill = \"#E8660E\", size = 1.5, alpha = .5) + \n",
    "    geom_point(size = 1.5, color = \"#E8660E\", alpha = 1, shape = 16) +\n",
    "    xlab(\"Experienced integration\") +\n",
    "    ylab(\"Gardony map score\") +\n",
    "    xlim(1, 1.5) +\n",
    "    ylim(0, 1) +\n",
    "    theme_minimal() +\n",
    "    theme(panel.grid.major = element_blank(), panel.grid.minor = element_blank(),\n",
    "         axis.text.x = element_text(colour=\"black\"), axis.text.y = element_text(color=\"black\"))  \n",
    "\n",
    "plot_grid(exp1_rain, NULL, exp1_err, NULL, exp1_map,\n",
    "    nrow = 1,\n",
    "    rel_widths = c(.6, .05, .8, .05, .8))\n",
    "\n",
    "#ggsave(\"exp1_integ_rain.tiff\", width = 6.5, height = 3)\n"
   ]
  },
  {
   "cell_type": "markdown",
   "metadata": {},
   "source": [
    "### Experiment 2: experienced integration <a name=\"exp_2_integ\"></a>\n",
    "Scatterplots relating experienced integration to pointing performance and map-building."
   ]
  },
  {
   "cell_type": "code",
   "execution_count": null,
   "metadata": {},
   "outputs": [],
   "source": [
    "## linear regression models\n",
    "# replace 'abs_error' for 'r_squared' to test that relationship\n",
    "lm_integ <- lm(abs_error ~ integ_experienced + prop_time_off_path, data = data_exp2)\n",
    "summary(lm_integ)\n",
    "lm.beta(lm_integ)\n",
    "eta_squared(lm_integ)"
   ]
  },
  {
   "cell_type": "code",
   "execution_count": null,
   "metadata": {},
   "outputs": [],
   "source": [
    "## accounting for sbsod\n",
    "## swap out 'abs_error' for 'r_squared' to test that relationship\n",
    "lm_integ_sbsod <- lm(abs_error ~ integ_experienced + sbsod_score + prop_time_off_path, data = data_exp2)\n",
    "summary(lm_integ_sbsod)\n",
    "lm.beta(lm_integ_sbsod)\n",
    "eta_squared(lm_integ_sbsod)"
   ]
  },
  {
   "cell_type": "code",
   "execution_count": 4,
   "metadata": {},
   "outputs": [
    {
     "name": "stderr",
     "output_type": "stream",
     "text": [
      "`geom_smooth()` using formula 'y ~ x'\n",
      "\n",
      "`geom_smooth()` using formula 'y ~ x'\n",
      "\n"
     ]
    },
    {
     "data": {
      "image/png": "[encoded data removed]",
      "text/plain": [
       "plot without title"
      ]
     },
     "metadata": {
      "image/png": {
       "height": 420,
       "width": 420
      }
     },
     "output_type": "display_data"
    }
   ],
   "source": [
    "## Create individual scatterplots: Experiment 2 ##\n",
    "\n",
    "exp2_box <- ggplot(data_exp2, aes(x = \"\", y = integ_experienced)) +\n",
    "    geom_boxplot(width = .35, size = 1.5, outlier.shape = NA, color = \"grey52\") +\n",
    "    geom_dotplot(binaxis = \"y\", stackdir = \"center\", dotsize = 0.7, alpha = .85, fill = \"#09978D\", color = \"#09978D\") +\n",
    "    xlab(\"\") +\n",
    "    ylab(\"Experienced integration\") +\n",
    "    ylim(1, 1.5) +\n",
    "    theme_minimal() +\n",
    "    theme(panel.grid.major = element_blank(), panel.grid.minor = element_blank(),\n",
    "         axis.text.x = element_text(colour=\"black\"), axis.text.y = element_text(color=\"black\")) +\n",
    "    coord_fixed(ratio = 4) +\n",
    "    scale_x_discrete(expand = c(0, 0)) \n",
    "\n",
    "## add arbitrary 'category' to enable raincloud plot\n",
    "## there's probably a more elegant solution but this works\n",
    "data_exp2$categ <- as.factor(1)\n",
    "\n",
    "exp2_rain <- ggplot(data_exp2, aes(x = categ, y = integ_experienced, fill = categ, colour = NA)) +\n",
    "      geom_flat_violin(position = position_nudge(x = .25, y = 0), adjust = 1, trim = FALSE, alpha = .65) +\n",
    "      geom_point(aes(color = categ), position = position_jitter(width = .15, height = 0), size = 2.5, alpha = 1, shape = 20) +\n",
    "      geom_boxplot(aes(x = as.numeric(as.factor(categ)) + 0.25, y = integ_experienced), outlier.shape = NA, \n",
    "                   alpha = 0.85, width = .1, size=1, colour = \"grey20\") +\n",
    "      ylab('Experienced integration') + xlab('') + \n",
    "      guides(fill = FALSE, colour = FALSE) +\n",
    "      scale_fill_manual(values = c(\"#09978D\")) +\n",
    "      scale_color_manual(values = c(\"#09978D\")) +\n",
    "      theme_minimal() +\n",
    "      theme(axis.text.x = element_blank(), axis.text.y = element_text(colour = \"black\")) +\n",
    "      theme(panel.grid.major = element_blank(), panel.grid.minor = element_blank()) \n",
    "\n",
    "exp2_err <- ggplot(data_exp2, aes(x = integ_experienced, y = abs_error)) +\n",
    "    geom_smooth(method = 'lm', color = \"#09978D\", fill = \"#09978D\", size = 1.5, alpha = .5) + \n",
    "    geom_point(size = 1.5, color = \"#09978D\", alpha = 1, shape = 16) +\n",
    "    xlab(\"Experienced integration\") +\n",
    "    ylab(\"Absolute pointing error\") +\n",
    "    xlim(1, 1.5) +\n",
    "    ylim(0, 92) +\n",
    "    theme_minimal() +\n",
    "    theme(panel.grid.major = element_blank(), panel.grid.minor = element_blank(),\n",
    "         axis.text.x = element_text(colour=\"black\"), axis.text.y = element_text(color=\"black\")) \n",
    "\n",
    "exp2_map <- ggplot(data_exp2, aes(x = integ_experienced, y = r_squared)) +\n",
    "    geom_smooth(method = 'lm', color = \"#09978D\", fill = \"#09978D\", size = 1.5, alpha = .5) + \n",
    "    geom_point(size = 1.5, color = \"#09978D\", alpha = 1, shape = 16) +\n",
    "    xlab(\"Experienced integration\") +\n",
    "    ylab(\"Bidimensional regression coefficient\") +\n",
    "    xlim(1, 1.5) +\n",
    "    ylim(0, 1) +\n",
    "    theme_minimal() +\n",
    "    theme(panel.grid.major = element_blank(), panel.grid.minor = element_blank(),\n",
    "         axis.text.x = element_text(colour=\"black\"), axis.text.y = element_text(color=\"black\"))  \n",
    "\n",
    "plot_grid(exp2_rain, NULL, exp2_err, NULL, exp2_map,\n",
    "    nrow = 1,\n",
    "    rel_widths = c(.6, .05, .8, .05, .8))\n",
    "\n",
    "#ggsave(\"exp2_integ_rain.tiff\", width = 6.5, height = 3)\n"
   ]
  },
  {
   "cell_type": "markdown",
   "metadata": {},
   "source": [
    "### Experiment 1: Simulation <a name=\"exp_1_sim\"></a>\n",
    "Comparison of human navigation data and simulated trajectories."
   ]
  },
  {
   "cell_type": "code",
   "execution_count": 51,
   "metadata": {},
   "outputs": [],
   "source": [
    "### Experiment 1: real data ###\n",
    "error_data_nav <- data_exp1[c('sub','abs_error','integ_experienced')]\n",
    "integ_data_nav <- data_exp1[c('integ_experienced')]\n",
    "colnames(integ_data_nav) <- 'integ'\n",
    "integ_data_nav$categ <- 'real_nav'\n",
    "\n",
    "# save just numerical values\n",
    "integ_data_vals <- as.data.frame(data_exp1$integ_experienced)\n",
    "\n",
    "## split into tertiles based on pointing error\n",
    "integ_data_tertiles <-  error_data_nav %>%\n",
    "  mutate(tertile = ntile(abs_error, 3))"
   ]
  },
  {
   "cell_type": "code",
   "execution_count": 210,
   "metadata": {},
   "outputs": [
    {
     "name": "stderr",
     "output_type": "stream",
     "text": [
      "Saving 6.67 x 6.67 in image\n",
      "\n"
     ]
    },
    {
     "data": {
      "image/png": "[encoded data removed]",
      "text/plain": [
       "plot without title"
      ]
     },
     "metadata": {
      "image/png": {
       "height": 420,
       "width": 420
      }
     },
     "output_type": "display_data"
    },
    {
     "name": "stderr",
     "output_type": "stream",
     "text": [
      "Saving 6.67 x 6.67 in image\n",
      "\n"
     ]
    },
    {
     "data": {
      "image/png": "[encoded data removed]",
      "text/plain": [
       "plot without title"
      ]
     },
     "metadata": {
      "image/png": {
       "height": 420,
       "width": 420
      }
     },
     "output_type": "display_data"
    }
   ],
   "source": [
    "## clustering ##\n",
    "library(Ckmeans.1d.dp)\n",
    "\n",
    "# from tutorial published by package developers: \n",
    "# https://cran.r-project.org/web/packages/Ckmeans.1d.dp/vignettes/Ckmeans.1d.dp.html \n",
    "\n",
    "# Divide x into k clusters, k automatically selected (default: 1~9)\n",
    "result1 <- Ckmeans.1d.dp(error_data_nav$abs_error, c(1,9))\n",
    "k <- max(result1$cluster)\n",
    "\n",
    "result2 <- Ckmedian.1d.dp(error_data_nav$abs_error, 3)\n",
    "#print(result2)\n",
    "#print(integ_data_tertiles$tertile)\n",
    "\n",
    "results2 <- as.data.frame(result2$cluster)\n",
    "results1 <- as.data.frame(integ_data_tertiles$tertile)\n",
    "\n",
    "colnames(results1) <- c('tertile')\n",
    "colnames(results2) <- c('clustering')\n",
    "\n",
    "results1$seq <- as.numeric(row.names(results1))\n",
    "results1$tertile <- as.factor(results1$tertile)\n",
    "\n",
    "results2$seq <- as.numeric(row.names(results2))\n",
    "results2$clustering <- as.factor(results2$clustering)\n",
    "\n",
    "ggplot() +\n",
    "geom_rect(data=results1, aes(xmin = 0, xmax = .5, ymin = seq-1, ymax = seq, fill = tertile)) +\n",
    "scale_fill_manual(values = c(\"#FFA411\", \"#E7570F\", \"#9B2226\", \"#CD3F7F\", \"#913B87\", \"#5A1D97\")) +\n",
    "theme(x.axis.text=element_blank(),\n",
    "    x.axis.ticks = element_blank(),\n",
    "     x.axis.labels = element_blank()) +\n",
    "theme_minimal()\n",
    "\n",
    "ggsave('tertile_count_plot.png')\n",
    "\n",
    "ggplot() +\n",
    "geom_rect(data=results2, aes(xmin = 0, xmax = .5, ymin = seq-1, ymax = seq, fill = clustering)) +\n",
    "scale_fill_manual(values = c(\"#FFA411\", \"#E7570F\", \"#9B2226\", \"#CD3F7F\", \"#913B87\", \"#5A1D97\")) +\n",
    "theme(base_size = 16)+\n",
    "theme_minimal()\n",
    "\n",
    "ggsave('cluster_count_plot.png')"
   ]
  },
  {
   "cell_type": "code",
   "execution_count": 52,
   "metadata": {
    "scrolled": true
   },
   "outputs": [
    {
     "data": {
      "image/png": "[encoded data removed]",
      "text/plain": [
       "plot without title"
      ]
     },
     "metadata": {
      "image/png": {
       "height": 420,
       "width": 420
      }
     },
     "output_type": "display_data"
    }
   ],
   "source": [
    "# organize data for plotting\n",
    "\n",
    "integ_data_tertile1 <- filter(integ_data_tertiles, tertile == 1)\n",
    "integ_data_t1 <- integ_data_tertile1$integ_experienced\n",
    "integ_data_tertile2 <- filter(integ_data_tertiles, tertile == 2)\n",
    "integ_data_t2 <- integ_data_tertile2$integ_experienced\n",
    "integ_data_tertile3 <- filter(integ_data_tertiles, tertile == 3)\n",
    "integ_data_t3 <- integ_data_tertile3$integ_experienced\n",
    "\n",
    "### Experiment 1: simulated data ###\n",
    "## random walk\n",
    "integ_data_sim <- read.table('trajectory_simulation/exp1_simulated_agent_integration_values.csv', header=T, sep=',')\n",
    "colnames(integ_data_sim) <- 'integ'\n",
    "integ_data_sim$categ <- \"random_walk\"\n",
    "# save just numerical values\n",
    "integ_data_sim_vals <- as.data.frame(integ_data_sim$integ)\n",
    "\n",
    "## proportionally weighted options\n",
    "integ_data_sim_w <- read.table('trajectory_simulation/exp1_simulated_agent_integration_values_weighted.csv', header=T, sep=',')\n",
    "colnames(integ_data_sim_w) <- 'integ'\n",
    "integ_data_sim_w$categ <- \"prop_weighted\"\n",
    "# save just numerical values\n",
    "integ_data_sim_w_vals <- as.data.frame(integ_data_sim_w$integ)\n",
    "\n",
    "## heavily weighted options\n",
    "integ_data_sim_h <- read.table('trajectory_simulation/exp1_simulated_agent_integration_values_weighted_5x.csv', header=T, sep=',')\n",
    "colnames(integ_data_sim_h) <- 'integ'\n",
    "integ_data_sim_h$categ <- \"heavily_weighted\"\n",
    "# save just numerical values\n",
    "integ_data_sim_h_vals <- as.data.frame(integ_data_sim_h$integ)\n",
    "\n",
    "### Raincloud plots ####\n",
    "\n",
    "integ_data_df_t1 <- as.data.frame(integ_data_t1)\n",
    "colnames(integ_data_df_t1) <- c(\"integ\")\n",
    "integ_data_df_t1$categ <- \"nav_tertile1\"\n",
    "\n",
    "integ_data_df_t2 <- as.data.frame(integ_data_t2)\n",
    "colnames(integ_data_df_t2) <- c(\"integ\")\n",
    "integ_data_df_t2$categ <- \"nav_tertile2\"\n",
    "\n",
    "integ_data_df_t3 <- as.data.frame(integ_data_t3)\n",
    "colnames(integ_data_df_t3) <- c(\"integ\")\n",
    "integ_data_df_t3$categ <- \"nav_tertile3\"\n",
    "\n",
    "integ_data_combin <- rbind(integ_data_df_t1, integ_data_df_t2, integ_data_df_t3, integ_data_sim, integ_data_sim_w, integ_data_sim_h)\n",
    "\n",
    "integ_data_combin$categ <- factor(integ_data_combin$categ, levels = c(\"nav_tertile3\", \"nav_tertile2\", \"nav_tertile1\", \"random_walk\", \"prop_weighted\", \"heavily_weighted\"))\n",
    "\n",
    "## integration: plot\n",
    "ggplot(integ_data_combin, aes(x = categ, y = integ, fill = categ)) +\n",
    "  geom_flat_violin(position = position_nudge(x = .25, y = 0), adjust = 1, trim = FALSE, alpha = .75, color = 'white') +\n",
    "  geom_point(aes(color = categ, fill=categ), position = position_jitter(width = .15, height = 0), size = 2.5, alpha = 1, shape = 20) +\n",
    "  geom_boxplot(aes(x = as.numeric(as.factor(categ)) + 0.25, y = integ), outlier.shape = NA, alpha = 0.85, width = .1, colour = \"black\") +\n",
    "  ylab('Average integration') + xlab('') + \n",
    "  guides(fill = FALSE, colour = FALSE) +\n",
    "  scale_x_discrete(labels = c('Bottom tertile','Middle tertile','Top tertile','Random walk','Weighted connectivity bias','Strong connectivity bias')) +\n",
    "  scale_fill_manual(values = c(\"#FFA411\", \"#E7570F\", \"#9B2226\", \"#CD3F7F\", \"#913B87\", \"#5A1D97\")) +\n",
    "  scale_color_manual(values = c(\"#FFA411\", \"#E7570F\", \"#9B2226\", \"#CD3F7F\", \"#913B87\", \"#5A1D97\")) +\n",
    "  theme_minimal(base_size = 18) +\n",
    "  theme(axis.text.x = element_text(colour=\"black\", size = 12), axis.text.y = element_text(colour = \"black\")) +\n",
    "  theme(panel.grid.major = element_blank(), panel.grid.minor = element_blank()) \n",
    "\n",
    "\n",
    "#ggsave(\"exp1_data_sim_raincloud.png\", width = 9.5, height = 5)\n"
   ]
  },
  {
   "cell_type": "markdown",
   "metadata": {},
   "source": [
    "### t-tests with bootstrapping <a name=\"tstat\"></a>\n"
   ]
  },
  {
   "cell_type": "code",
   "execution_count": 27,
   "metadata": {},
   "outputs": [
    {
     "name": "stdout",
     "output_type": "stream",
     "text": [
      "[1] \"tertile 1\"\n",
      "[1] \"simulation number 100\"\n",
      "[1] \"simulation number 200\"\n",
      "[1] \"simulation number 300\"\n",
      "[1] \"simulation number 400\"\n",
      "[1] \"simulation number 500\"\n",
      "[1] \"simulation number 600\"\n",
      "[1] \"simulation number 700\"\n",
      "[1] \"simulation number 800\"\n",
      "[1] \"simulation number 900\"\n",
      "[1] \"simulation number 1000\"\n",
      "[1] \"tertile 2\"\n",
      "[1] \"simulation number 100\"\n",
      "[1] \"simulation number 200\"\n",
      "[1] \"simulation number 300\"\n",
      "[1] \"simulation number 400\"\n",
      "[1] \"simulation number 500\"\n",
      "[1] \"simulation number 600\"\n",
      "[1] \"simulation number 700\"\n",
      "[1] \"simulation number 800\"\n",
      "[1] \"simulation number 900\"\n",
      "[1] \"simulation number 1000\"\n",
      "[1] \"tertile 3\"\n",
      "[1] \"simulation number 100\"\n",
      "[1] \"simulation number 200\"\n",
      "[1] \"simulation number 300\"\n",
      "[1] \"simulation number 400\"\n",
      "[1] \"simulation number 500\"\n",
      "[1] \"simulation number 600\"\n",
      "[1] \"simulation number 700\"\n",
      "[1] \"simulation number 800\"\n",
      "[1] \"simulation number 900\"\n",
      "[1] \"simulation number 1000\"\n"
     ]
    }
   ],
   "source": [
    "#### Bootstrapped t-tests ####\n",
    "## the idea here is to run 1000 t-tests comparing human and simulated values (with 1000 bootstrap iterations each)\n",
    "## loop 1: take data from participants in each tertile\n",
    "## loop 2: draw a set of simulated trajectories with a matched N to human ones, then run\n",
    "## 1,000 bootstrapped t-tests against human trajectories in that tertile\n",
    "## in each bootstrap iteration, save only number of significant t-tests, not their values\n",
    "## then we can calculate the proportion of significant tests in each case\n",
    "\n",
    "#### NOTE: CHANGE THE RIGHT SIDE OF ASSIGNMENT IN THE LINE BELOW TO SWITCH OUT THE SIMULATION APPROACHES #####\n",
    "integ_data_sim <- integ_data_sim_w_vals\n",
    "### OPTIONS: ###\n",
    "# integ_data_sim_vals = random walk\n",
    "# integ_data_sim_w_vals = proportionally weighted connectivity bias\n",
    "# integ_data_sim_h_vals = heavily weighted connectivity bias\n",
    "\n",
    "#### also note: for some reason, 'print' commands do not display in the notebook so you can't tell where you are in the loop \n",
    "# it takes a while to run, so change the number of iterations (to e.g., 10) if you just want to see what it does \n",
    "\n",
    "# function to obtain t-value\n",
    "t_function <- function(data, i){\n",
    "  d2 <- data[i,] \n",
    "  t_test <- t.test(d2$integ_human_temp, d2$integ_sim_temp, alternative = \"two.sided\", var.equal = FALSE)\n",
    "  t_val <- t_test$statistic\n",
    "  return(t_val)\n",
    "}\n",
    "\n",
    "## nested loop  \n",
    "# initialize empty list\n",
    "tert_list <- list()\n",
    "tert_list_below <- list()\n",
    "\n",
    "for (tert in 1:3){\n",
    "    print(paste('tertile',tert))\n",
    "    # pick out each tertile 1 through 3\n",
    "    integ_human_temp_label <- paste0('integ_data_t', tert)\n",
    "    integ_human_temp <- get(integ_human_temp_label)\n",
    "  \n",
    "    # initialize empty lists\n",
    "    t_list <- list()\n",
    "    t_list_below <- list()\n",
    "  \n",
    "    # draw matched N of simulated trajectories to human trajectories in each tertile\n",
    "    # repeat 1,000 times\n",
    "      for (sim in 1:1000){\n",
    "          if (sim%%100 == 0) {\n",
    "              print(paste('simulation number',sim))\n",
    "          }\n",
    "          # randomly draw from simulated trajectories\n",
    "          integ_sim_temp <- integ_data_sim[sample(nrow(integ_data_sim), length(integ_human_temp)), ]\n",
    "          # combine human and simulated data for the bootstrap t-test\n",
    "          data_temp <- as.data.frame(cbind(integ_human_temp, integ_sim_temp))\n",
    "    \n",
    "          bootstrap_t <- boot(data_temp, t_function, R=1000)\n",
    "          t_vals <- bootstrap_t$t\n",
    "          t_vals_sig <- length(which(t_vals > 1.98))\n",
    "          t_vals_sig_below <- length(which(t_vals < -1.98))\n",
    "          \n",
    "          t_list[[sim]] <- t_vals_sig\n",
    "          t_list_below[[sim]] <- t_vals_sig_below\n",
    "      }\n",
    "    tert_list[[tert]] <- t_list\n",
    "    tert_list_below[[tert]] <- t_list_below\n",
    "}\n",
    "\n",
    "# bind into dataframes for visualization\n",
    "\n",
    "tert1_vals <- do.call(rbind, tert_list[[1]])\n",
    "tert2_vals <- do.call(rbind, tert_list[[2]])\n",
    "tert3_vals <- do.call(rbind, tert_list[[3]])\n",
    "\n",
    "tert1_sum <- sum(tert1_vals)\n",
    "tert2_sum <- sum(tert2_vals)\n",
    "tert3_sum <- sum(tert3_vals)\n",
    "\n",
    "tert1_vals_below <- do.call(rbind, tert_list_below[[1]])\n",
    "tert2_vals_below <- do.call(rbind, tert_list_below[[2]])\n",
    "tert3_vals_below <- do.call(rbind, tert_list_below[[3]])\n",
    "\n",
    "tert1_sum_below <- sum(tert1_vals_below)\n",
    "tert2_sum_below <- sum(tert2_vals_below)\n",
    "tert3_sum_below <- sum(tert3_vals_below)\n",
    "\n",
    "## now calculate percentage for the pie charts\n",
    "percent1 = tert1_sum/1000000 * 100\n",
    "percent1_below = tert1_sum_below/1000000 * 100\n",
    "\n",
    "percent2 <- tert2_sum/1000000 * 100\n",
    "percent2_below = tert2_sum_below/1000000 * 100\n",
    "\n",
    "percent3 <- tert3_sum/1000000 * 100\n",
    "percent3_below = tert3_sum_below/1000000 * 100\n"
   ]
  },
  {
   "cell_type": "markdown",
   "metadata": {},
   "source": [
    "T-test pie charts"
   ]
  },
  {
   "cell_type": "code",
   "execution_count": 34,
   "metadata": {},
   "outputs": [
    {
     "data": {
      "image/png": "[encoded data removed]",
      "text/plain": [
       "plot without title"
      ]
     },
     "metadata": {
      "image/png": {
       "height": 420,
       "width": 420
      }
     },
     "output_type": "display_data"
    }
   ],
   "source": [
    "# blank theme for pie chart\n",
    "blank_theme <- theme_minimal()+\n",
    "  theme(\n",
    "  axis.title.x = element_blank(),\n",
    "  axis.title.y = element_blank(),\n",
    "  panel.border = element_blank(),\n",
    "  panel.grid=element_blank(),\n",
    "  axis.ticks = element_blank(),\n",
    "  plot.title=element_text(size=18, face=\"bold\"))\n",
    "  #legend.position = \"none\")\n",
    "\n",
    "## create separate data frames for each tertile\n",
    "df_pie1 <- data.frame(\n",
    "  group = c(\"Significant\", \"Non-significant\", 'Significant Below'),\n",
    "  value = c(percent1, (100 - percent1), percent1_below))\n",
    "\n",
    "df_pie2 <- data.frame(\n",
    "  group = c(\"Significant\", \"Non-significant\", 'Significant Below'),\n",
    "  value = c(percent2, (100 - percent2), percent2_below))\n",
    "\n",
    "df_pie3 <- data.frame(\n",
    "  group = c(\"Significant\", \"Non-significant\", 'Significant Below'),\n",
    "  value = c(percent3, (100 - percent3), percent3_below))\n",
    "\n",
    "## create separate pie charts for each tertile\n",
    "tert1_pie <- ggplot(df_pie1, aes(x = \"\", y = value, fill = group))+\n",
    "    geom_bar(width = 1, stat = \"identity\") +\n",
    "    coord_polar(\"y\", start=0) +\n",
    "    blank_theme +\n",
    "    scale_fill_manual(values = c(\"grey80\",\"#FFA411\",'black')) +   \n",
    "    theme(axis.text.x=element_blank()) \n",
    "\n",
    "tert2_pie <- ggplot(df_pie2, aes(x = \"\", y = value, fill = group))+\n",
    "    geom_bar(width = 1, stat = \"identity\") +\n",
    "    coord_polar(\"y\", start=0) +\n",
    "    blank_theme +\n",
    "    scale_fill_manual(values = c(\"grey80\",\"#E7570F\",'black')) +   \n",
    "    theme(axis.text.x=element_blank()) \n",
    "\n",
    "tert3_pie <- ggplot(df_pie3, aes(x = \"\", y = value, fill = group))+\n",
    "    geom_bar(width = 1, stat = \"identity\") +\n",
    "    coord_polar(\"y\", start=0) +\n",
    "    blank_theme +\n",
    "    scale_fill_manual(values = c(\"grey80\",\"#9B2226\",'black')) +   \n",
    "    theme(axis.text.x=element_blank()) \n",
    "\n",
    "plot_grid(tert3_pie, tert2_pie, tert1_pie,\n",
    "    nrow = 1)\n",
    "\n",
    "#ggsave(\"exp1_data_sim_pie.tiff\", width = 3, height = 7)"
   ]
  },
  {
   "cell_type": "markdown",
   "metadata": {},
   "source": [
    "### Sampling: 1,000 cases, distribution"
   ]
  },
  {
   "cell_type": "code",
   "execution_count": 53,
   "metadata": {},
   "outputs": [],
   "source": [
    "\n",
    "sim_list <- list(integ_data_sim, integ_data_sim_w, integ_data_sim_h)\n",
    "out_df_list <- list()\n",
    "\n",
    "for (sim in 1:3){\n",
    "    df <- sim_list[[sim]]\n",
    "    list_means <- list()\n",
    "\n",
    "    for (i in 1:1000){\n",
    "        sample_temp = df[sample(nrow(df), 78), ]\n",
    "        sample_mean = mean(sample_temp$integ)\n",
    "        list_means[[i]] <- sample_mean\n",
    "\n",
    "    }\n",
    "    categ <- df$categ[1]\n",
    "    out_df <- as.data.frame(do.call(rbind, list_means))\n",
    "    out_df$categ <- categ\n",
    "    colnames(out_df) <- c('integ_mean','categ')\n",
    "    out_df_list[[sim]] <- out_df\n",
    "}\n",
    "\n"
   ]
  },
  {
   "cell_type": "code",
   "execution_count": 54,
   "metadata": {},
   "outputs": [
    {
     "name": "stderr",
     "output_type": "stream",
     "text": [
      "Warning message:\n",
      "\"Removed 6 rows containing missing values (geom_bar).\"\n"
     ]
    },
    {
     "data": {
      "image/png": "[encoded data removed]",
      "text/plain": [
       "plot without title"
      ]
     },
     "metadata": {
      "image/png": {
       "height": 420,
       "width": 420
      }
     },
     "output_type": "display_data"
    }
   ],
   "source": [
    "plot_df <- out_df_list[[1]]\n",
    "all_plot_dfs <- do.call(rbind, out_df_list)\n",
    "\n",
    "mean_t1 <- mean(integ_data_df_t1$integ)\n",
    "mean_t2 <- mean(integ_data_df_t2$integ)\n",
    "mean_t3 <- mean(integ_data_df_t3$integ)\n",
    "\n",
    "all_plot_dfs <- all_plot_dfs %>%\n",
    "mutate(categ = factor(categ, levels=c(\"random_walk\", \"prop_weighted\", \"heavily_weighted\"), \n",
    "                     labels = c('Random walk', 'Proportional connectivity bias','Consistent connectivity bias')))\n",
    "\n",
    "ggplot(all_plot_dfs, aes(x=integ_mean)) + \n",
    "facet_wrap(~categ, nrow = 3) +\n",
    "geom_histogram(bins = 60, fill = 'grey80', color = 'white') +\n",
    "geom_rect(xmin = mean_t1, xmax = mean_t1+.005, ymin = 0, ymax = 200, fill = '#9B2226', color = NA) +\n",
    "geom_rect(xmin = mean_t2, xmax = mean_t2+.005, ymin = 0, ymax = 200, fill = '#E7570F', color = NA) +\n",
    "geom_rect(xmin = mean_t3, xmax = mean_t3+.005, ymin = 0, ymax = 200, fill = '#FFA411', color = NA) +\n",
    "xlim(c(1.1, 1.5)) +\n",
    "xlab('Experienced integration') +\n",
    "ylab('Observations') +\n",
    "theme_minimal() +\n",
    "theme(axis.text = element_text(size = 12),\n",
    "     axis.title = element_text(size = 14),\n",
    "     strip.text = element_text(size = 16))\n",
    "\n",
    "#ggsave('sim_distributions_exp1.png', height = 6, width = 7, dpi = 300)"
   ]
  },
  {
   "cell_type": "code",
   "execution_count": 99,
   "metadata": {},
   "outputs": [
    {
     "name": "stdout",
     "output_type": "stream",
     "text": [
      "[1] \"Random walk\"\n",
      "[1] 0\n",
      "[1] 0\n",
      "[1] 0\n",
      "[1] \"Proportional connectivity bias\"\n",
      "[1] 0\n",
      "[1] 0.005\n",
      "[1] 0.545\n",
      "[1] \"Consistent connectivity bias\"\n",
      "[1] 0\n",
      "[1] 0.829\n",
      "[1] 1\n"
     ]
    }
   ],
   "source": [
    "mean_list <- c(mean_t1, mean_t2, mean_t3)\n",
    "\n",
    "print('Random walk')\n",
    "prop_random_walk <- all_plot_dfs %>%\n",
    "filter(., categ == 'Random walk')\n",
    "\n",
    "num_random_t1 <- filter(prop_random_walk, integ_mean < mean_t1)\n",
    "num_random_t2 <- filter(prop_random_walk, integ_mean < mean_t2)\n",
    "num_random_t3 <- filter(prop_random_walk, integ_mean < mean_t3)\n",
    "print(1 - nrow(num_random_t1)/1000)\n",
    "print(1 - nrow(num_random_t2)/1000)\n",
    "print(1 - nrow(num_random_t3)/1000)\n",
    "\n",
    "print('Proportional connectivity bias')\n",
    "prop_prop_weighted <- all_plot_dfs %>%\n",
    "filter(., categ == 'Proportional connectivity bias')\n",
    "\n",
    "num_prop_w_t1 <- filter(prop_prop_weighted, integ_mean < mean_t1)\n",
    "num_prop_w_t2 <- filter(prop_prop_weighted, integ_mean < mean_t2)\n",
    "num_prop_w_t3 <- filter(prop_prop_weighted, integ_mean < mean_t3)\n",
    "\n",
    "print(1 - nrow(num_prop_w_t1)/1000)\n",
    "print(1 - nrow(num_prop_w_t2)/1000)\n",
    "print(1 - nrow(num_prop_w_t3)/1000)\n",
    "\n",
    "print('Consistent connectivity bias')\n",
    "prop_heavily_weighted <- all_plot_dfs %>%\n",
    "filter(., categ == 'Consistent connectivity bias')\n",
    "\n",
    "num_prop_h_t1 <- filter(prop_heavily_weighted, integ_mean < mean_t1)\n",
    "num_prop_h_t2 <- filter(prop_heavily_weighted, integ_mean < mean_t2)\n",
    "num_prop_h_t3 <- filter(prop_heavily_weighted, integ_mean < mean_t3)\n",
    "\n",
    "print(1 - nrow(num_prop_h_t1)/1000)\n",
    "print(1 - nrow(num_prop_h_t2)/1000)\n",
    "print(1 - nrow(num_prop_h_t3)/1000)\n"
   ]
  },
  {
   "cell_type": "markdown",
   "metadata": {},
   "source": [
    "### Experiment 2: Simulation <a name=\"exp_2_sim\"></a>\n"
   ]
  },
  {
   "cell_type": "code",
   "execution_count": 100,
   "metadata": {},
   "outputs": [],
   "source": [
    "### Experiment 2: real data ###\n",
    "error_data_nav <- data_exp2[c('sub','abs_error','integ_experienced')]\n",
    "integ_data_nav <- data_exp2[c('integ_experienced')]\n",
    "colnames(integ_data_nav) <- 'integ'\n",
    "integ_data_nav$categ <- 'real_nav'\n",
    "\n",
    "# save just numerical values\n",
    "integ_data_vals <- as.data.frame(data_exp2$integ_experienced)\n",
    "\n",
    "## split into tertiles based on pointing error\n",
    "integ_data_tertiles <-  error_data_nav %>%\n",
    "  mutate(tertile = ntile(abs_error, 3))"
   ]
  },
  {
   "cell_type": "code",
   "execution_count": 257,
   "metadata": {},
   "outputs": [
    {
     "name": "stdout",
     "output_type": "stream",
     "text": [
      "\n",
      "Cluster centers:\n",
      "[1] 17.86379 58.06566\n",
      "\n",
      "Cluster index associated with each element:\n",
      " [1] 2 2 1 2 2 2 1 2 2 2 2 2 2 1 2 1 1 1 2 2 2 2 1 2 2 2 2 2 1 1 1 1 2 1 1 1 2 2\n",
      "[39] 1 1 2 2 1 1 2 1 2 1 2 2 1 1\n",
      "\n",
      "Within-cluster sum of squares:\n",
      "[1]  759.987 3331.345\n",
      "Ckmeans.1d.dp returns 2 optimal clusters of sizes 22, 30 \n",
      "  minimum total within-cluster sum of squares: 4091.332 \n",
      "  maximum between-cluster sum of squares: 20513.18 \n",
      "  total sum of squares of input vector: 24604.51 \n",
      "  maximum (between-SS / total-SS): 83.4 %\n",
      "\n",
      "Available components:\n",
      " [1] \"cluster\"      \"centers\"      \"withinss\"     \"size\"         \"totss\"       \n",
      " [6] \"tot.withinss\" \"betweenss\"    \"BIC\"          \"xname\"        \"yname\"       \n",
      " [1] 2 3 1 2 3 2 1 2 3 3 3 3 3 1 3 1 1 1 2 3 3 2 1 3 2 3 2 3 1 1 1 2 2 1 1 1 2 3\n",
      "[39] 1 1 3 2 2 2 2 1 2 1 3 3 2 1\n"
     ]
    }
   ],
   "source": [
    "## clustering ##\n",
    "# from tutorial published by package developers: \n",
    "# https://cran.r-project.org/web/packages/Ckmeans.1d.dp/vignettes/Ckmeans.1d.dp.html \n",
    "\n",
    "# Divide x into k clusters, k automatically selected (default: 1~9)\n",
    "result1 <- Ckmeans.1d.dp(error_data_nav$abs_error, c(1,9))\n",
    "k <- max(result1$cluster)\n",
    "\n",
    "result2 <- Ckmedian.1d.dp(error_data_nav$abs_error, c(1,9))\n",
    "print(result1)\n",
    "print(integ_data_tertiles$tertile)\n"
   ]
  },
  {
   "cell_type": "code",
   "execution_count": 101,
   "metadata": {},
   "outputs": [
    {
     "data": {
      "image/png": "[encoded data removed]",
      "text/plain": [
       "plot without title"
      ]
     },
     "metadata": {
      "image/png": {
       "height": 420,
       "width": 420
      }
     },
     "output_type": "display_data"
    }
   ],
   "source": [
    "# organize data for plotting: TERTILES\n",
    "\n",
    "integ_data_tertile1 <- filter(integ_data_tertiles, tertile == 1)\n",
    "integ_data_t1 <- integ_data_tertile1$integ_experienced\n",
    "integ_data_tertile2 <- filter(integ_data_tertiles, tertile == 2)\n",
    "integ_data_t2 <- integ_data_tertile2$integ_experienced\n",
    "integ_data_tertile3 <- filter(integ_data_tertiles, tertile == 3)\n",
    "integ_data_t3 <- integ_data_tertile3$integ_experienced\n",
    "\n",
    "### Experiment 1: simulated data ###\n",
    "## random walk\n",
    "integ_data_sim <- read.table('trajectory_simulation/exp2_simulated_agent_integration_values.csv', header=T, sep=',')\n",
    "colnames(integ_data_sim) <- 'integ'\n",
    "integ_data_sim$categ <- \"random_walk\"\n",
    "# save just numerical values\n",
    "integ_data_sim_vals <- as.data.frame(integ_data_sim$integ)\n",
    "\n",
    "## proportionally weighted options\n",
    "integ_data_sim_w <- read.table('trajectory_simulation/exp2_simulated_agent_integration_values_weighted.csv', header=T, sep=',')\n",
    "colnames(integ_data_sim_w) <- 'integ'\n",
    "integ_data_sim_w$categ <- \"prop_weighted\"\n",
    "# save just numerical values\n",
    "integ_data_sim_w_vals <- as.data.frame(integ_data_sim_w$integ)\n",
    "\n",
    "## heavily weighted options\n",
    "integ_data_sim_h <- read.table('trajectory_simulation/exp2_simulated_agent_integration_values_weighted_5x.csv', header=T, sep=',')\n",
    "colnames(integ_data_sim_h) <- 'integ'\n",
    "integ_data_sim_h$categ <- \"heavily_weighted\"\n",
    "# save just numerical values\n",
    "integ_data_sim_h_vals <- as.data.frame(integ_data_sim_h$integ)\n",
    "\n",
    "### Raincloud plots ####\n",
    "\n",
    "integ_data_df_t1 <- as.data.frame(integ_data_t1)\n",
    "colnames(integ_data_df_t1) <- c(\"integ\")\n",
    "integ_data_df_t1$categ <- \"nav_tertile1\"\n",
    "\n",
    "integ_data_df_t2 <- as.data.frame(integ_data_t2)\n",
    "colnames(integ_data_df_t2) <- c(\"integ\")\n",
    "integ_data_df_t2$categ <- \"nav_tertile2\"\n",
    "\n",
    "integ_data_df_t3 <- as.data.frame(integ_data_t3)\n",
    "colnames(integ_data_df_t3) <- c(\"integ\")\n",
    "integ_data_df_t3$categ <- \"nav_tertile3\"\n",
    "\n",
    "integ_data_combin <- rbind(integ_data_df_t1, integ_data_df_t2, integ_data_df_t3, integ_data_sim, integ_data_sim_w, integ_data_sim_h)\n",
    "\n",
    "integ_data_combin$categ <- factor(integ_data_combin$categ, levels = c(\"nav_tertile3\", \"nav_tertile2\", \"nav_tertile1\", \"random_walk\", \"prop_weighted\", \"heavily_weighted\"))\n",
    "\n",
    "## integration: plot\n",
    "ggplot(integ_data_combin, aes(x = categ, y = integ, fill = categ)) +\n",
    "  geom_flat_violin(position = position_nudge(x = .25, y = 0), adjust = 1, trim = FALSE, alpha = .75, color = 'white') +\n",
    "  geom_point(aes(color = categ, fill=categ), position = position_jitter(width = .15, height = 0), size = 2.5, alpha = 1, shape = 20) +\n",
    "  geom_boxplot(aes(x = as.numeric(as.factor(categ)) + 0.25, y = integ), outlier.shape = NA, alpha = 0.85, width = .1, colour = \"black\") +\n",
    "  ylab('Average integration') + xlab('') + \n",
    "  guides(fill = FALSE, colour = FALSE) +\n",
    "  scale_x_discrete(labels = c('Bottom tertile','Middle tertile','Top tertile','Random walk','Weighted connectivity bias','Strong connectivity bias')) +\n",
    "  scale_fill_manual(values = c(\"#94D2BD\", \"#0A9396\", \"#005F73\", \"#CD3F7F\", \"#913B87\", \"#5A1D97\")) +\n",
    "  scale_color_manual(values = c(\"#94D2BD\", \"#0A9396\", \"#005F73\", \"#CD3F7F\", \"#913B87\", \"#5A1D97\")) +\n",
    "  theme_minimal(base_size = 18) +\n",
    "  theme(axis.text.x = element_text(colour=\"black\", size = 12), axis.text.y = element_text(colour = \"black\")) +\n",
    "  theme(panel.grid.major = element_blank(), panel.grid.minor = element_blank()) \n",
    "\n",
    "#ggsave(\"exp2_data_sim_raincloud.png\", width = 9.5, height = 5)\n"
   ]
  },
  {
   "cell_type": "code",
   "execution_count": 47,
   "metadata": {},
   "outputs": [
    {
     "ename": "ERROR",
     "evalue": "Error: object 'cluster' not found\n",
     "output_type": "error",
     "traceback": [
      "Error: object 'cluster' not found\nTraceback:\n",
      "1. filter(integ_data_tertiles, cluster == 1)",
      "2. filter.data.frame(integ_data_tertiles, cluster == 1)",
      "3. as.data.frame(filter(tbl_df(.data), ..., .preserve = .preserve))",
      "4. filter(tbl_df(.data), ..., .preserve = .preserve)",
      "5. filter.tbl_df(tbl_df(.data), ..., .preserve = .preserve)",
      "6. filter_impl(.data, quo)"
     ]
    }
   ],
   "source": [
    "# organize data for plotting: CLUSTERS\n",
    "\n",
    "integ_data_cluster1 <- filter(integ_data_tertiles, cluster == 1)\n",
    "integ_data_clust1 <- integ_data_cluster1$integ_experienced\n",
    "integ_data_cluster2 <- filter(integ_data_tertiles, cluster == 2)\n",
    "integ_data_clust2 <- integ_data_cluster2$integ_experienced\n",
    "\n",
    "### Experiment 1: simulated data ###\n",
    "## random walk\n",
    "integ_data_sim <- read.table('trajectory_simulation/exp2_simulated_agent_integration_values.csv', header=T, sep=',')\n",
    "colnames(integ_data_sim) <- 'integ'\n",
    "integ_data_sim$categ <- \"random_walk\"\n",
    "# save just numerical values\n",
    "integ_data_sim_vals <- as.data.frame(integ_data_sim$integ)\n",
    "\n",
    "## proportionally weighted options\n",
    "integ_data_sim_w <- read.table('trajectory_simulation/exp2_simulated_agent_integration_values_weighted.csv', header=T, sep=',')\n",
    "colnames(integ_data_sim_w) <- 'integ'\n",
    "integ_data_sim_w$categ <- \"prop_weighted\"\n",
    "# save just numerical values\n",
    "integ_data_sim_w_vals <- as.data.frame(integ_data_sim_w$integ)\n",
    "\n",
    "## heavily weighted options\n",
    "integ_data_sim_h <- read.table('trajectory_simulation/exp2_simulated_agent_integration_values_weighted_5x.csv', header=T, sep=',')\n",
    "colnames(integ_data_sim_h) <- 'integ'\n",
    "integ_data_sim_h$categ <- \"heavily_weighted\"\n",
    "# save just numerical values\n",
    "integ_data_sim_h_vals <- as.data.frame(integ_data_sim_h$integ)\n",
    "\n",
    "### Raincloud plots ####\n",
    "\n",
    "integ_data_df_clust1 <- as.data.frame(integ_data_clust1)\n",
    "colnames(integ_data_df_clust1) <- c(\"integ\")\n",
    "integ_data_df_clust1$categ <- \"nav_cluster1\"\n",
    "\n",
    "integ_data_df_clust2 <- as.data.frame(integ_data_clust2)\n",
    "colnames(integ_data_df_clust2) <- c(\"integ\")\n",
    "integ_data_df_clust2$categ <- \"nav_cluster2\"\n",
    "\n",
    "integ_data_combin <- rbind(integ_data_df_clust1, integ_data_df_clust2, integ_data_sim, integ_data_sim_w, integ_data_sim_h)\n",
    "\n",
    "integ_data_combin$categ <- factor(integ_data_combin$categ, levels = c(\"nav_cluster2\", \"nav_cluster1\", \"random_walk\", \"prop_weighted\", \"heavily_weighted\"))\n",
    "\n",
    "## integration: plot\n",
    "ggplot(integ_data_combin, aes(x = categ, y = integ, fill = categ)) +\n",
    "  geom_flat_violin(position = position_nudge(x = .25, y = 0), adjust = 1, trim = FALSE, alpha = .75, color = 'white') +\n",
    "  geom_point(aes(color = categ, fill=categ), position = position_jitter(width = .15, height = 0), size = 2.5, alpha = 1, shape = 20) +\n",
    "  geom_boxplot(aes(x = as.numeric(as.factor(categ)) + 0.25, y = integ), outlier.shape = NA, alpha = 0.85, width = .1, colour = \"black\") +\n",
    "  ylab('Average integration') + xlab('') + \n",
    "  guides(fill = FALSE, colour = FALSE) +\n",
    "  scale_x_discrete(labels = c('Cluster 1','Cluster 2','Random walk','Weighted conn. bias','Strong conn. bias')) +\n",
    "  scale_fill_manual(values = c(\"#94D2BD\", \"#005F73\", \"#CD3F7F\", \"#913B87\", \"#5A1D97\")) +\n",
    "  scale_color_manual(values = c(\"#94D2BD\", \"#005F73\", \"#CD3F7F\", \"#913B87\", \"#5A1D97\")) +\n",
    "  theme_minimal(base_size = 18) +\n",
    "  theme(axis.text.x = element_text(colour=\"black\", size = 12), axis.text.y = element_text(colour = \"black\")) +\n",
    "  theme(panel.grid.major = element_blank(), panel.grid.minor = element_blank()) \n",
    "\n",
    "#ggsave(\"exp2_data_sim_raincloud_clusters.png\", width = 9.5, height = 5)\n"
   ]
  },
  {
   "cell_type": "code",
   "execution_count": null,
   "metadata": {},
   "outputs": [],
   "source": [
    "## same bootstrapping procedure as in experiment 1; not duplicating code here but labels are identical"
   ]
  },
  {
   "cell_type": "code",
   "execution_count": 111,
   "metadata": {},
   "outputs": [],
   "source": [
    "\n",
    "sim_list <- list(integ_data_sim, integ_data_sim_w, integ_data_sim_h)\n",
    "out_df_list <- list()\n",
    "\n",
    "for (sim in 1:3){\n",
    "    df <- sim_list[[sim]]\n",
    "    list_means <- list()\n",
    "\n",
    "    for (i in 1:1000){\n",
    "        sample_temp = df[sample(nrow(df), 52), ]\n",
    "        sample_mean = mean(sample_temp$integ)\n",
    "        list_means[[i]] <- sample_mean\n",
    "\n",
    "    }\n",
    "    categ <- df$categ[1]\n",
    "    out_df <- as.data.frame(do.call(rbind, list_means))\n",
    "    out_df$categ <- categ\n",
    "    colnames(out_df) <- c('integ_mean','categ')\n",
    "    out_df_list[[sim]] <- out_df\n",
    "}\n",
    "\n"
   ]
  },
  {
   "cell_type": "code",
   "execution_count": 112,
   "metadata": {},
   "outputs": [
    {
     "name": "stderr",
     "output_type": "stream",
     "text": [
      "Warning message:\n",
      "\"Removed 6 rows containing missing values (geom_bar).\"\n"
     ]
    },
    {
     "data": {
      "image/png": "[encoded data removed]",
      "text/plain": [
       "plot without title"
      ]
     },
     "metadata": {
      "image/png": {
       "height": 420,
       "width": 420
      }
     },
     "output_type": "display_data"
    }
   ],
   "source": [
    "plot_df <- out_df_list[[1]]\n",
    "all_plot_dfs <- do.call(rbind, out_df_list)\n",
    "\n",
    "mean_t1 <- mean(integ_data_df_t1$integ)\n",
    "mean_t2 <- mean(integ_data_df_t2$integ)\n",
    "mean_t3 <- mean(integ_data_df_t3$integ)\n",
    "\n",
    "all_plot_dfs <- all_plot_dfs %>%\n",
    "mutate(categ = factor(categ, levels=c(\"random_walk\", \"prop_weighted\", \"heavily_weighted\"), \n",
    "                     labels = c('Random walk', 'Proportional connectivity bias','Consistent connectivity bias')))\n",
    "\n",
    "ggplot(all_plot_dfs, aes(x=integ_mean)) + \n",
    "facet_wrap(~categ, nrow = 3) +\n",
    "geom_histogram(bins = 60, fill = 'grey80', color = 'white') +\n",
    "geom_rect(xmin = mean_t1, xmax = mean_t1+.005, ymin = 0, ymax = 200, fill = \"#005F73\", color = NA) +\n",
    "geom_rect(xmin = mean_t2, xmax = mean_t2+.005, ymin = 0, ymax = 200, fill = '#0A9396', color = NA) +\n",
    "geom_rect(xmin = mean_t3, xmax = mean_t3+.005, ymin = 0, ymax = 200, fill = '#94D2BD', color = NA) +\n",
    "xlim(c(1.1, 1.5)) +\n",
    "xlab('Experienced integration') +\n",
    "ylab('Observations') +\n",
    "theme_minimal() +\n",
    "theme(axis.text = element_text(size = 12),\n",
    "     axis.title = element_text(size = 14),\n",
    "     strip.text = element_text(size = 16))\n",
    "\n",
    "#ggsave('sim_distributions_exp2.png', height = 6, width = 7, dpi = 300)"
   ]
  },
  {
   "cell_type": "code",
   "execution_count": 113,
   "metadata": {},
   "outputs": [
    {
     "name": "stdout",
     "output_type": "stream",
     "text": [
      "[1] \"Random walk\"\n",
      "[1] 0\n",
      "[1] 0\n",
      "[1] 0\n",
      "[1] \"Proportional connectivity bias\"\n",
      "[1] 0\n",
      "[1] 0\n",
      "[1] 0.042\n",
      "[1] \"Consistent connectivity bias\"\n",
      "[1] 0.095\n",
      "[1] 0.085\n",
      "[1] 0.978\n"
     ]
    }
   ],
   "source": [
    "mean_list <- c(mean_t1, mean_t2, mean_t3)\n",
    "\n",
    "print('Random walk')\n",
    "prop_random_walk <- all_plot_dfs %>%\n",
    "filter(., categ == 'Random walk')\n",
    "\n",
    "num_random_t1 <- filter(prop_random_walk, integ_mean < mean_t1)\n",
    "num_random_t2 <- filter(prop_random_walk, integ_mean < mean_t2)\n",
    "num_random_t3 <- filter(prop_random_walk, integ_mean < mean_t3)\n",
    "print(1 - nrow(num_random_t1)/1000)\n",
    "print(1 - nrow(num_random_t2)/1000)\n",
    "print(1 - nrow(num_random_t3)/1000)\n",
    "\n",
    "print('Proportional connectivity bias')\n",
    "prop_prop_weighted <- all_plot_dfs %>%\n",
    "filter(., categ == 'Proportional connectivity bias')\n",
    "\n",
    "num_prop_w_t1 <- filter(prop_prop_weighted, integ_mean < mean_t1)\n",
    "num_prop_w_t2 <- filter(prop_prop_weighted, integ_mean < mean_t2)\n",
    "num_prop_w_t3 <- filter(prop_prop_weighted, integ_mean < mean_t3)\n",
    "\n",
    "print(1 - nrow(num_prop_w_t1)/1000)\n",
    "print(1 - nrow(num_prop_w_t2)/1000)\n",
    "print(1 - nrow(num_prop_w_t3)/1000)\n",
    "\n",
    "print('Consistent connectivity bias')\n",
    "prop_heavily_weighted <- all_plot_dfs %>%\n",
    "filter(., categ == 'Consistent connectivity bias')\n",
    "\n",
    "num_prop_h_t1 <- filter(prop_heavily_weighted, integ_mean < mean_t1)\n",
    "num_prop_h_t2 <- filter(prop_heavily_weighted, integ_mean < mean_t2)\n",
    "num_prop_h_t3 <- filter(prop_heavily_weighted, integ_mean < mean_t3)\n",
    "\n",
    "print(1 - nrow(num_prop_h_t1)/1000)\n",
    "print(1 - nrow(num_prop_h_t2)/1000)\n",
    "print(1 - nrow(num_prop_h_t3)/1000)"
   ]
  },
  {
   "cell_type": "code",
   "execution_count": 268,
   "metadata": {},
   "outputs": [
    {
     "name": "stderr",
     "output_type": "stream",
     "text": [
      "Warning message:\n",
      "\"Removed 6 rows containing missing values (geom_bar).\"\n"
     ]
    },
    {
     "data": {
      "image/png": "[encoded data removed]",
      "text/plain": [
       "plot without title"
      ]
     },
     "metadata": {
      "image/png": {
       "height": 420,
       "width": 420
      }
     },
     "output_type": "display_data"
    }
   ],
   "source": [
    "### CLUSTERING\n",
    "plot_df <- out_df_list[[1]]\n",
    "all_plot_dfs <- do.call(rbind, out_df_list)\n",
    "\n",
    "mean_t1 <- mean(integ_data_df_clust1$integ)\n",
    "mean_t2 <- mean(integ_data_df_clust2$integ)\n",
    "\n",
    "all_plot_dfs <- all_plot_dfs %>%\n",
    "mutate(categ = factor(categ, levels=c(\"random_walk\", \"prop_weighted\", \"heavily_weighted\"), \n",
    "                     labels = c('Random walk', 'Proportional connectivity bias','Consistent connectivity bias')))\n",
    "\n",
    "ggplot(all_plot_dfs, aes(x=integ_mean)) + \n",
    "facet_wrap(~categ, nrow = 3) +\n",
    "geom_histogram(bins = 60, fill = 'grey80', color = 'white') +\n",
    "geom_rect(xmin = mean_t1, xmax = mean_t1+.005, ymin = 0, ymax = 200, fill = \"#005F73\", color = NA) +\n",
    "geom_rect(xmin = mean_t2, xmax = mean_t2+.005, ymin = 0, ymax = 200, fill = '#0A9396', color = NA) +\n",
    "xlim(c(1.1, 1.5)) +\n",
    "xlab('Experienced integration') +\n",
    "ylab('Observations') +\n",
    "theme_minimal() +\n",
    "theme(axis.text = element_text(size = 12),\n",
    "     axis.title = element_text(size = 14),\n",
    "     strip.text = element_text(size = 16))\n",
    "\n",
    "#ggsave('sim_distributions_exp2.png', height = 7, width = 4, dpi = 300)"
   ]
  },
  {
   "cell_type": "markdown",
   "metadata": {},
   "source": [
    "### Experiment 1: Roaming entropy<a name=\"exp_1_entropy\"></a>"
   ]
  },
  {
   "cell_type": "code",
   "execution_count": null,
   "metadata": {},
   "outputs": [],
   "source": [
    "## regression\n",
    "## swap out 'abs_error' for 'gardony_score' to test that relationship\n",
    "lm_re <- lm(abs_error ~ entropy_all, data = data_exp1)\n",
    "summary(lm_re)\n",
    "lm.beta(lm_re)\n",
    "eta_squared(lm_re)"
   ]
  },
  {
   "cell_type": "code",
   "execution_count": null,
   "metadata": {},
   "outputs": [],
   "source": [
    "exp1_err <- ggplot(data_exp1, aes(x = entropy_all, y = abs_error)) +\n",
    "    geom_smooth(method = 'lm', color = \"#E8660E\", fill = \"#E8660E\", size = 1.5, alpha = .5) + \n",
    "    geom_point(size = 1.5, color = \"#E8660E\", alpha = .85) +\n",
    "    xlab(\"Roaming entropy\") +\n",
    "    ylab(\"Absolute pointing error\") +\n",
    "    #xlim(.75, 1.05) +\n",
    "    ylim(0, 90) +\n",
    "    theme_minimal() +\n",
    "    theme(panel.grid.major = element_blank(), panel.grid.minor = element_blank(),\n",
    "         axis.text.x = element_text(colour=\"black\"), axis.text.y = element_text(color=\"black\")) \n",
    "\n",
    "exp1_map <- ggplot(data_exp1, aes(x = entropy_all, y = gardony_score)) +\n",
    "    geom_smooth(method = 'lm', color = \"#E8660E\", fill = \"#E8660E\", size = 1.5, alpha = .5) + \n",
    "    geom_point(size = 1.5, color = \"#E8660E\", alpha = .85) +\n",
    "    xlab(\"Roaming entropy\") +\n",
    "    ylab(\"Gardony map score\") +\n",
    "    #xlim(.75, 1.05) +\n",
    "    ylim(0, 1) +\n",
    "    theme_minimal() +\n",
    "    theme(panel.grid.major = element_blank(), panel.grid.minor = element_blank(),\n",
    "         axis.text.x = element_text(colour=\"black\"), axis.text.y = element_text(color=\"black\"))  \n",
    "\n",
    "plot_grid(exp1_err, NULL, exp1_map,\n",
    "    nrow = 1,\n",
    "    rel_widths = c(.8, .05, .8))\n",
    "\n",
    "ggsave(\"exp1_entropy.tiff\", width = 5, height = 3)\n"
   ]
  },
  {
   "cell_type": "markdown",
   "metadata": {},
   "source": [
    "### Experiment 2: Roaming entropy<a name=\"exp_2_entropy\"></a>"
   ]
  },
  {
   "cell_type": "code",
   "execution_count": null,
   "metadata": {},
   "outputs": [],
   "source": [
    "## regression\n",
    "## swap out 'abs_error' for 'r_squared' to test that relationship\n",
    "lm_re <- lm(r_squared ~ entropy_all, data = data_exp2)\n",
    "summary(lm_re)\n",
    "lm.beta(lm_re)\n",
    "eta_squared(lm_re)"
   ]
  },
  {
   "cell_type": "code",
   "execution_count": null,
   "metadata": {},
   "outputs": [],
   "source": [
    "exp2_err <- ggplot(data_exp2, aes(x = entropy_all, y = abs_error)) +\n",
    "    geom_smooth(method = 'lm', color = \"#09978D\", fill = \"#09978D\", size = 1.5, alpha = .5) + \n",
    "    geom_point(size = 1.5, color = \"#09978D\", alpha = .85) +\n",
    "    xlab(\"Roaming entropy\") +\n",
    "    ylab(\"Absolute pointing error\") +\n",
    "    #xlim(.75, 1.02) +\n",
    "    ylim(0, 92) +\n",
    "    theme_minimal() +\n",
    "    theme(panel.grid.major = element_blank(), panel.grid.minor = element_blank(),\n",
    "         axis.text.x = element_text(colour=\"black\"), axis.text.y = element_text(color=\"black\")) \n",
    "\n",
    "exp2_map <- ggplot(data_exp2, aes(x = entropy_all, y = r_squared)) +\n",
    "    geom_smooth(method = 'lm', color = \"#09978D\", fill = \"#09978D\", size = 1.5, alpha = .5) + \n",
    "    geom_point(size = 1.5, color = \"#09978D\", alpha = .85) +\n",
    "    xlab(\"Roaming entropy\") +\n",
    "    ylab(bquote('Bidimensional regression '~R^2)) +\n",
    "    #xlim(.82, 1.02) +\n",
    "    ylim(0, 1) +\n",
    "    theme_minimal() +\n",
    "    theme(panel.grid.major = element_blank(), panel.grid.minor = element_blank(),\n",
    "         axis.text.x = element_text(colour=\"black\"), axis.text.y = element_text(color=\"black\"))  \n",
    "\n",
    "plot_grid(exp2_err, NULL, exp2_map,\n",
    "    nrow = 1,\n",
    "    rel_widths = c(.8, .05, .8))\n",
    "\n",
    "ggsave(\"exp2_entropy.tiff\", width = 5, height = 3)"
   ]
  },
  {
   "cell_type": "markdown",
   "metadata": {},
   "source": [
    "## Overall model"
   ]
  },
  {
   "cell_type": "code",
   "execution_count": null,
   "metadata": {},
   "outputs": [],
   "source": [
    "## Overall model: Experiment 1\n",
    "## swap out 'abs_error' for 'gardony_score' to test that relationship\n",
    "lm_all_exp1 <- lm(abs_error ~ integ_experienced + entropy_all + prop_time_off_path, data = data_exp1)\n",
    "summary(lm_all_exp1)\n",
    "lm.beta(lm_all_exp1)\n",
    "eta_squared(lm_all_exp1)"
   ]
  },
  {
   "cell_type": "code",
   "execution_count": null,
   "metadata": {},
   "outputs": [],
   "source": [
    "## Overall model: Experiment 2\n",
    "## swap out 'abs_error' for 'r_squared' to test that relationship\n",
    "lm_all_exp2 <- lm(r_squared ~ integ_experienced + entropy_all + prop_time_off_path, data = data_exp2)\n",
    "summary(lm_all_exp2)\n",
    "lm.beta(lm_all_exp2)\n",
    "eta_squared(lm_all_exp2)"
   ]
  },
  {
   "cell_type": "markdown",
   "metadata": {},
   "source": [
    "### Overall models: with displacement"
   ]
  },
  {
   "cell_type": "code",
   "execution_count": null,
   "metadata": {},
   "outputs": [],
   "source": [
    "## Overall model with displacement: Experiment 1\n",
    "## swap out 'abs_error' for 'gardony_score' to test that relationship\n",
    "lm_all_exp1 <- lm(gardony_score ~ integ_experienced + entropy_all + MSD_all + prop_time_off_path, data = data_exp1)\n",
    "summary(lm_all_exp1)\n",
    "lm.beta(lm_all_exp1)\n",
    "eta_squared(lm_all_exp1)"
   ]
  },
  {
   "cell_type": "code",
   "execution_count": null,
   "metadata": {},
   "outputs": [],
   "source": [
    "## Overall model with displacement: Experiment 2\n",
    "## swap out 'abs_error' for 'r_squared' to test that relationship\n",
    "lm_all_exp2 <- lm(r_squared ~ integ_experienced + entropy_all + MSD_all + prop_time_off_path, data = data_exp2)\n",
    "summary(lm_all_exp2)\n",
    "lm.beta(lm_all_exp2)\n",
    "eta_squared(lm_all_exp2)"
   ]
  }
 ],
 "metadata": {
  "kernelspec": {
   "display_name": "R",
   "language": "R",
   "name": "ir"
  },
  "language_info": {
   "codemirror_mode": "r",
   "file_extension": ".r",
   "mimetype": "text/x-r-source",
   "name": "R",
   "pygments_lexer": "r",
   "version": "3.6.1"
  }
 },
 "nbformat": 4,
 "nbformat_minor": 4
}
